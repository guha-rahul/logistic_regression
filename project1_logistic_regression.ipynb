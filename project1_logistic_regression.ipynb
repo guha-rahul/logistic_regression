{
 "cells": [
  {
   "cell_type": "markdown",
   "id": "c56fca92-80fa-46a0-b63c-c474170acc03",
   "metadata": {},
   "source": [
    "# Stroke Risk Prediction using Logistic Regression"
   ]
  },
  {
   "attachments": {},
   "cell_type": "markdown",
   "id": "dd27b7cc-236c-4c6d-9bb4-c66eef13efa2",
   "metadata": {},
   "source": [
    "## Abstract\n",
    "Implement a Logistic Regression model from scratch to identify potential stroke cases from patient data\n",
    "\n",
    "## Objective\n",
    "- Develop a custom logistic regression model for binary classification of stroke risk\n",
    "- Evaluate model performance using appropriate metrics and interpret model behavior.\n",
    "- Build a working interface for the model\n",
    "\n",
    "## Motivation\n",
    "Strokes are major health threats that can be prevented with early intervention. This model helps healthcare providers identify high-risk patients from existing clinical data, enabling timely preventive care.\n",
    "\n",
    "## System Architecture / Design\n",
    "1. Data Preprocessing: Cleaning data , conversion of categorical data to numerical data and scaling of attributes\n",
    "2. Logistic Regression Core: Custom implementation featuring\n",
    "    - Sigmoid activation function\n",
    "    - Cost function optimization via gradient descent\n",
    "    - Regularization to prevent overfitting\n",
    "3. Model Assessment and Analysis: Evaluate accuracy and reliability for clinical use\n",
    "4. User Interface: Simple tool  to input patient data and get risk classification."
   ]
  },
  {
   "cell_type": "code",
   "execution_count": 74,
   "id": "b0ed1917-bf54-450f-9e30-ad3470461024",
   "metadata": {},
   "outputs": [],
   "source": [
    "import numpy as np\n",
    "import pandas as pd\n",
    "import matplotlib.pyplot as plt\n",
    "import seaborn as sns\n",
    "from sklearn.model_selection import train_test_split\n",
    "from sklearn.preprocessing import StandardScaler\n",
    "from sklearn.metrics import confusion_matrix, classification_report, roc_curve, roc_auc_score\n",
    "import joblib\n",
    "import warnings\n",
    "warnings.filterwarnings('ignore')"
   ]
  },
  {
   "cell_type": "code",
   "execution_count": 91,
   "id": "48b1dff4-9525-4850-8512-641b80ede6e7",
   "metadata": {},
   "outputs": [],
   "source": [
    "class LogisticRegression:\n",
    "    \n",
    "    # Custom implementation of Logistic Regression using gradient descent\n",
    "    \n",
    "    \n",
    "    def __init__(self, learning_rate=0.01, max_iterations=1000, tol=1e-4):\n",
    "        \"\"\"\n",
    "        Initialize the model parameters\n",
    "        \n",
    "        Parameters:\n",
    "        \n",
    "        learning_rate : Step size for gradient descent\n",
    "        max_iterations : Maximum number of iterations for gradient descent\n",
    "        tol : Tolerance for convergence\n",
    "        \"\"\"\n",
    "        self.learning_rate = learning_rate\n",
    "        self.max_iterations = max_iterations\n",
    "        self.tol = tol\n",
    "        self.weights = None\n",
    "        self.bias = None\n",
    "        self.cost_history = []\n",
    "    \n",
    "    def sigmoid(self, z):\n",
    "        \"\"\"\n",
    "        Sigmoid activation function\n",
    "        \n",
    "        Parameters:\n",
    "        z : Linear combination of features and weights\n",
    "            \n",
    "        Returns: Probability values between 0 and 1\n",
    "        \"\"\"\n",
    "        # Clip z to avoid overflow in exp\n",
    "        z = np.clip(z, -500, 500)\n",
    "        return 1 / (1 + np.exp(-z))\n",
    "    \n",
    "    def fit(self, X, y):\n",
    "        \"\"\"\n",
    "        Train the model using gradient descent\n",
    "        \n",
    "        Parameters:\n",
    "        X : Training data (n_samples, n_features)    \n",
    "        y : Target values (n_samples,)\n",
    "            \n",
    "            \n",
    "        Returns: self \n",
    "        \"\"\"\n",
    "        # Initialize weights and bias\n",
    "        n_samples, n_features = X.shape\n",
    "        self.weights = np.zeros(n_features)\n",
    "        self.bias = 0\n",
    "        \n",
    "        # Gradient descent\n",
    "        for i in range(self.max_iterations):\n",
    "\n",
    "            # Predict class probabilites according to current coefficients\n",
    "            y_pred = self.predict_prob(X)\n",
    "            \n",
    "            # Compute gradients\n",
    "            dw = (1 / n_samples) * np.dot(X.T, (y_pred - y))\n",
    "            db = (1 / n_samples) * np.sum(y_pred - y)\n",
    "            \n",
    "            # Update parameters\n",
    "            self.weights -= self.learning_rate * dw\n",
    "            self.bias -= self.learning_rate * db\n",
    "            \n",
    "            # Compute cost for monitoring\n",
    "            cost = self._compute_cost(y, y_pred)\n",
    "            self.cost_history.append(cost)\n",
    "            \n",
    "            # Check for convergence\n",
    "            if i > 0 and abs(self.cost_history[i] - self.cost_history[i-1]) < self.tol:\n",
    "                break\n",
    "                \n",
    "        return self\n",
    "    \n",
    "    def predict_prob(self, X):\n",
    "        \"\"\"\n",
    "        Predict class probabilities\n",
    "        \n",
    "        Parameters:\n",
    "        X : Test data (n_samples, n_features)\n",
    "            \n",
    "        Returns: Predicted probabilities (n_samples,)\n",
    "       \n",
    "        \"\"\"\n",
    "        # Refression Coefficients\n",
    "        coeff = np.dot(X, self.weights) + self.bias\n",
    "        # Sigmoid activation\n",
    "        return self.sigmoid(coeff)\n",
    "    \n",
    "    def predict(self, X, threshold=0.5):\n",
    "        \"\"\"\n",
    "        Predict class labels\n",
    "        \n",
    "        Parameters:\n",
    "        \n",
    "        X : Test data (n_samples, n_features)\n",
    "            Test data\n",
    "        threshold : Decision threshold\n",
    "            \n",
    "        Returns: Predicted class labels (0 or 1) (n_samples,)\n",
    "      \n",
    "        \"\"\"\n",
    "        probabilities = self.predict_prob(X)\n",
    "        return (probabilities >= threshold).astype(int)\n",
    "    \n",
    "    def _compute_cost(self, y_true, y_pred):\n",
    "        \"\"\"\n",
    "        Compute the binary cross-entropy cost\n",
    "        \n",
    "        Parameters:\n",
    "        y_true : True class labels\n",
    "        y_pred : Predicted probabilities\n",
    "            \n",
    "        Returns: Binary cross-entropy cost\n",
    "        \"\"\"\n",
    "        # Clip predictions to avoid log(0)\n",
    "        y_pred = np.clip(y_pred, 1e-15, 1 - 1e-15)\n",
    "        return -np.mean(y_true * np.log(y_pred) + (1 - y_true) * np.log(1 - y_pred))"
   ]
  },
  {
   "cell_type": "code",
   "execution_count": 92,
   "id": "83ca817b-1de3-402a-89ae-1d8360f9f178",
   "metadata": {},
   "outputs": [
    {
     "name": "stdout",
     "output_type": "stream",
     "text": [
      "Dataset loaded successfully with 5110 records and 12 features.\n"
     ]
    }
   ],
   "source": [
    "try:\n",
    "    data = pd.read_csv('healthcare-dataset-stroke-data.csv')\n",
    "    print(f\"Dataset loaded successfully with {data.shape[0]} records and {data.shape[1]} features.\")\n",
    "except FileNotFoundError:\n",
    "    print(\"Dataset not found. Please ensure the dataset file is in the correct path.\")\n",
    "    print(\"You can download the stroke dataset from Kaggle.\")\n",
    "    print(\"Link: https://www.kaggle.com/datasets/fedesoriano/stroke-prediction-dataset\")\n",
    "except Exception as e:\n",
    "    print(f\"An error occurred: {str(e)}\")"
   ]
  },
  {
   "cell_type": "code",
   "execution_count": 93,
   "id": "f04fc121-606f-4b69-8e86-029101da257a",
   "metadata": {},
   "outputs": [
    {
     "name": "stdout",
     "output_type": "stream",
     "text": [
      "<class 'pandas.core.frame.DataFrame'>\n",
      "RangeIndex: 5110 entries, 0 to 5109\n",
      "Data columns (total 12 columns):\n",
      " #   Column             Non-Null Count  Dtype  \n",
      "---  ------             --------------  -----  \n",
      " 0   id                 5110 non-null   int64  \n",
      " 1   gender             5110 non-null   object \n",
      " 2   age                5110 non-null   float64\n",
      " 3   hypertension       5110 non-null   int64  \n",
      " 4   heart_disease      5110 non-null   int64  \n",
      " 5   ever_married       5110 non-null   object \n",
      " 6   work_type          5110 non-null   object \n",
      " 7   Residence_type     5110 non-null   object \n",
      " 8   avg_glucose_level  5110 non-null   float64\n",
      " 9   bmi                4909 non-null   float64\n",
      " 10  smoking_status     5110 non-null   object \n",
      " 11  stroke             5110 non-null   int64  \n",
      "dtypes: float64(3), int64(4), object(5)\n",
      "memory usage: 479.2+ KB\n"
     ]
    }
   ],
   "source": [
    "data.info()"
   ]
  },
  {
   "cell_type": "code",
   "execution_count": 94,
   "id": "cf2ef92a-9afd-4eec-9f4e-72c01b14d7cb",
   "metadata": {},
   "outputs": [
    {
     "data": {
      "text/html": [
       "<div>\n",
       "<style scoped>\n",
       "    .dataframe tbody tr th:only-of-type {\n",
       "        vertical-align: middle;\n",
       "    }\n",
       "\n",
       "    .dataframe tbody tr th {\n",
       "        vertical-align: top;\n",
       "    }\n",
       "\n",
       "    .dataframe thead th {\n",
       "        text-align: right;\n",
       "    }\n",
       "</style>\n",
       "<table border=\"1\" class=\"dataframe\">\n",
       "  <thead>\n",
       "    <tr style=\"text-align: right;\">\n",
       "      <th></th>\n",
       "      <th>id</th>\n",
       "      <th>gender</th>\n",
       "      <th>age</th>\n",
       "      <th>hypertension</th>\n",
       "      <th>heart_disease</th>\n",
       "      <th>ever_married</th>\n",
       "      <th>work_type</th>\n",
       "      <th>Residence_type</th>\n",
       "      <th>avg_glucose_level</th>\n",
       "      <th>bmi</th>\n",
       "      <th>smoking_status</th>\n",
       "      <th>stroke</th>\n",
       "    </tr>\n",
       "  </thead>\n",
       "  <tbody>\n",
       "    <tr>\n",
       "      <th>0</th>\n",
       "      <td>9046</td>\n",
       "      <td>Male</td>\n",
       "      <td>67.0</td>\n",
       "      <td>0</td>\n",
       "      <td>1</td>\n",
       "      <td>Yes</td>\n",
       "      <td>Private</td>\n",
       "      <td>Urban</td>\n",
       "      <td>228.69</td>\n",
       "      <td>36.6</td>\n",
       "      <td>formerly smoked</td>\n",
       "      <td>1</td>\n",
       "    </tr>\n",
       "    <tr>\n",
       "      <th>1</th>\n",
       "      <td>51676</td>\n",
       "      <td>Female</td>\n",
       "      <td>61.0</td>\n",
       "      <td>0</td>\n",
       "      <td>0</td>\n",
       "      <td>Yes</td>\n",
       "      <td>Self-employed</td>\n",
       "      <td>Rural</td>\n",
       "      <td>202.21</td>\n",
       "      <td>NaN</td>\n",
       "      <td>never smoked</td>\n",
       "      <td>1</td>\n",
       "    </tr>\n",
       "    <tr>\n",
       "      <th>2</th>\n",
       "      <td>31112</td>\n",
       "      <td>Male</td>\n",
       "      <td>80.0</td>\n",
       "      <td>0</td>\n",
       "      <td>1</td>\n",
       "      <td>Yes</td>\n",
       "      <td>Private</td>\n",
       "      <td>Rural</td>\n",
       "      <td>105.92</td>\n",
       "      <td>32.5</td>\n",
       "      <td>never smoked</td>\n",
       "      <td>1</td>\n",
       "    </tr>\n",
       "    <tr>\n",
       "      <th>3</th>\n",
       "      <td>60182</td>\n",
       "      <td>Female</td>\n",
       "      <td>49.0</td>\n",
       "      <td>0</td>\n",
       "      <td>0</td>\n",
       "      <td>Yes</td>\n",
       "      <td>Private</td>\n",
       "      <td>Urban</td>\n",
       "      <td>171.23</td>\n",
       "      <td>34.4</td>\n",
       "      <td>smokes</td>\n",
       "      <td>1</td>\n",
       "    </tr>\n",
       "    <tr>\n",
       "      <th>4</th>\n",
       "      <td>1665</td>\n",
       "      <td>Female</td>\n",
       "      <td>79.0</td>\n",
       "      <td>1</td>\n",
       "      <td>0</td>\n",
       "      <td>Yes</td>\n",
       "      <td>Self-employed</td>\n",
       "      <td>Rural</td>\n",
       "      <td>174.12</td>\n",
       "      <td>24.0</td>\n",
       "      <td>never smoked</td>\n",
       "      <td>1</td>\n",
       "    </tr>\n",
       "  </tbody>\n",
       "</table>\n",
       "</div>"
      ],
      "text/plain": [
       "      id  gender   age  hypertension  heart_disease ever_married  \\\n",
       "0   9046    Male  67.0             0              1          Yes   \n",
       "1  51676  Female  61.0             0              0          Yes   \n",
       "2  31112    Male  80.0             0              1          Yes   \n",
       "3  60182  Female  49.0             0              0          Yes   \n",
       "4   1665  Female  79.0             1              0          Yes   \n",
       "\n",
       "       work_type Residence_type  avg_glucose_level   bmi   smoking_status  \\\n",
       "0        Private          Urban             228.69  36.6  formerly smoked   \n",
       "1  Self-employed          Rural             202.21   NaN     never smoked   \n",
       "2        Private          Rural             105.92  32.5     never smoked   \n",
       "3        Private          Urban             171.23  34.4           smokes   \n",
       "4  Self-employed          Rural             174.12  24.0     never smoked   \n",
       "\n",
       "   stroke  \n",
       "0       1  \n",
       "1       1  \n",
       "2       1  \n",
       "3       1  \n",
       "4       1  "
      ]
     },
     "execution_count": 94,
     "metadata": {},
     "output_type": "execute_result"
    }
   ],
   "source": [
    "data.head()"
   ]
  },
  {
   "cell_type": "code",
   "execution_count": 217,
   "id": "3be23517-7c51-403d-b46d-68e99af3c384",
   "metadata": {},
   "outputs": [],
   "source": [
    "# Make a copy to avoid modifying the original data\n",
    "df = data.copy()"
   ]
  },
  {
   "cell_type": "code",
   "execution_count": 218,
   "id": "fce68381-70a5-4d78-a2ad-1cbafc5fecac",
   "metadata": {},
   "outputs": [
    {
     "name": "stdout",
     "output_type": "stream",
     "text": [
      "stroke\n",
      "0    4861\n",
      "1     249\n",
      "Name: count, dtype: int64\n",
      "Stroke rate: 4.87%\n"
     ]
    }
   ],
   "source": [
    "# Class Distribution\n",
    "print(df['stroke'].value_counts())\n",
    "print(f\"Stroke rate: {df['stroke'].mean() * 100:.2f}%\")"
   ]
  },
  {
   "cell_type": "markdown",
   "id": "9c3cfc8f-9d63-4c28-ad9f-fded87f387c0",
   "metadata": {},
   "source": [
    "Dataset is very unbalanced. Model will not be precise.\n",
    "\n",
    "### Data Undersampling\n",
    "\n",
    "Randomly reducing the majority category (\"stroke\" == 0)\n"
   ]
  },
  {
   "cell_type": "code",
   "execution_count": 255,
   "id": "8f709d58-8d14-4233-869e-c52b899f31e6",
   "metadata": {},
   "outputs": [],
   "source": [
    "shuffled_data = df.sample(frac=1,random_state=4)\n",
    "stroke_df = df.loc[df['stroke'] == 1]\n",
    "non_stroke_df = df.loc[df['stroke'] == 0].sample(n = 750,random_state = 101)\n",
    "# Non-stroke sufferers were reduced to 750 to balance the data set."
   ]
  },
  {
   "cell_type": "code",
   "execution_count": 256,
   "id": "ad60491f-a835-4be3-92a1-0fbed76fbd36",
   "metadata": {},
   "outputs": [],
   "source": [
    "normalized_df = pd.concat([stroke_df, non_stroke_df])"
   ]
  },
  {
   "cell_type": "code",
   "execution_count": 257,
   "id": "d1e66cef-4eac-4a0c-a4ee-350ef3acbba0",
   "metadata": {},
   "outputs": [
    {
     "name": "stdout",
     "output_type": "stream",
     "text": [
      "stroke\n",
      "0    750\n",
      "1    249\n",
      "Name: count, dtype: int64\n",
      "Stroke rate: 24.92%\n"
     ]
    }
   ],
   "source": [
    "# Modified Class Distribution\n",
    "print(normalized_df['stroke'].value_counts())\n",
    "print(f\"Stroke rate: {normalized_df['stroke'].mean() * 100:.2f}%\")"
   ]
  },
  {
   "cell_type": "code",
   "execution_count": 258,
   "id": "e50b1681-fd69-4bb6-bb10-025bbf2c01c1",
   "metadata": {},
   "outputs": [
    {
     "data": {
      "text/plain": [
       "Index(['id', 'gender', 'age', 'hypertension', 'heart_disease', 'ever_married',\n",
       "       'work_type', 'Residence_type', 'avg_glucose_level', 'bmi',\n",
       "       'smoking_status', 'stroke'],\n",
       "      dtype='object')"
      ]
     },
     "execution_count": 258,
     "metadata": {},
     "output_type": "execute_result"
    }
   ],
   "source": [
    "# Check columns\n",
    "normalized_df.columns"
   ]
  },
  {
   "cell_type": "code",
   "execution_count": 259,
   "id": "c630c57f-77bb-4ae4-b51e-22be43985497",
   "metadata": {},
   "outputs": [
    {
     "name": "stdout",
     "output_type": "stream",
     "text": [
      "Missing values:\n",
      "id                    0\n",
      "gender                0\n",
      "age                   0\n",
      "hypertension          0\n",
      "heart_disease         0\n",
      "ever_married          0\n",
      "work_type             0\n",
      "Residence_type        0\n",
      "avg_glucose_level     0\n",
      "bmi                  59\n",
      "smoking_status        0\n",
      "stroke                0\n",
      "dtype: int64\n"
     ]
    }
   ],
   "source": [
    "print(\"Missing values:\")\n",
    "print(normalized_df.isnull().sum())"
   ]
  },
  {
   "cell_type": "code",
   "execution_count": 260,
   "id": "03004b53-8138-4162-b168-151fd5e12e5b",
   "metadata": {},
   "outputs": [],
   "source": [
    "# Define categorical and numerical features\n",
    "categorical_features = ['gender', 'ever_married', 'work_type', 'Residence_type', 'smoking_status']\n",
    "numerical_features = ['age', 'hypertension', 'heart_disease', 'avg_glucose_level', 'bmi']\n"
   ]
  },
  {
   "cell_type": "code",
   "execution_count": 261,
   "id": "b1326193-6bbd-42d2-b0ff-1ebdb8b5462e",
   "metadata": {},
   "outputs": [
    {
     "data": {
      "text/plain": [
       "Index(['gender', 'age', 'hypertension', 'heart_disease', 'ever_married',\n",
       "       'work_type', 'Residence_type', 'avg_glucose_level', 'bmi',\n",
       "       'smoking_status', 'stroke'],\n",
       "      dtype='object')"
      ]
     },
     "execution_count": 261,
     "metadata": {},
     "output_type": "execute_result"
    }
   ],
   "source": [
    "# Drop ID column if exists\n",
    "if 'id' in normalized_df.columns:\n",
    "    normalized_df = normalized_df.drop('id', axis=1)\n",
    "normalized_df.columns"
   ]
  },
  {
   "cell_type": "code",
   "execution_count": 262,
   "id": "361cd90e-c5c1-46bb-b2bd-101fa3af23d9",
   "metadata": {},
   "outputs": [
    {
     "data": {
      "text/plain": [
       "gender               0\n",
       "age                  0\n",
       "hypertension         0\n",
       "heart_disease        0\n",
       "ever_married         0\n",
       "work_type            0\n",
       "Residence_type       0\n",
       "avg_glucose_level    0\n",
       "bmi                  0\n",
       "smoking_status       0\n",
       "stroke               0\n",
       "dtype: int64"
      ]
     },
     "execution_count": 262,
     "metadata": {},
     "output_type": "execute_result"
    }
   ],
   "source": [
    "# Handle missing values\n",
    "if normalized_df['bmi'].isna().any():\n",
    "    normalized_df['bmi'].fillna(normalized_df['bmi'].median(), inplace=True)\n",
    "normalized_df.isnull().sum()"
   ]
  },
  {
   "cell_type": "code",
   "execution_count": 263,
   "id": "7cd462a7-04f8-48b1-81ad-093d77156709",
   "metadata": {},
   "outputs": [],
   "source": [
    "# Extract target for training\n",
    "if 'stroke' in normalized_df.columns:\n",
    "    y = normalized_df['stroke'].values\n",
    "    normalized_df = normalized_df.drop('stroke', axis=1)"
   ]
  },
  {
   "cell_type": "code",
   "execution_count": 265,
   "id": "f6363adf-3311-4b7a-9d37-8a7643e730c5",
   "metadata": {},
   "outputs": [],
   "source": [
    "# Process categorical features\n",
    "df_encoded = pd.get_dummies(normalized_df, columns=categorical_features, drop_first=True)\n",
    "\n",
    "# Save feature names\n",
    "feature_names = df_encoded.columns.tolist()\n",
    "\n",
    " # Convert to numpy array\n",
    "X = df_encoded.values\n",
    "\n",
    "# Scale the features\n",
    "scaler = StandardScaler()\n",
    "X = scaler.fit_transform(X)\n"
   ]
  },
  {
   "cell_type": "code",
   "execution_count": 266,
   "id": "eb7ef64f-cf0f-4f6b-b9ba-05f0934e1d3e",
   "metadata": {},
   "outputs": [
    {
     "data": {
      "text/plain": [
       "((799, 15), (200, 15))"
      ]
     },
     "execution_count": 266,
     "metadata": {},
     "output_type": "execute_result"
    }
   ],
   "source": [
    " # Split the data into training and testing sets\n",
    "X_train, X_test, y_train, y_test = train_test_split(\n",
    "    X, y, test_size=0.2, random_state=42, stratify=y\n",
    ")\n",
    "X_train.shape, X_test.shape"
   ]
  },
  {
   "cell_type": "code",
   "execution_count": 267,
   "id": "c0602dcd-5e7b-4ab5-8f37-046210208204",
   "metadata": {},
   "outputs": [
    {
     "data": {
      "text/plain": [
       "<__main__.LogisticRegression at 0x183f4e29150>"
      ]
     },
     "execution_count": 267,
     "metadata": {},
     "output_type": "execute_result"
    }
   ],
   "source": [
    "# Initialize and train the model\n",
    "model = LogisticRegression(learning_rate=0.01, max_iterations=1000)\n",
    "model.fit(X_train, y_train)"
   ]
  },
  {
   "cell_type": "code",
   "execution_count": 277,
   "id": "e5e4b393-595d-4db6-9e54-7ab4f38dbce6",
   "metadata": {},
   "outputs": [
    {
     "name": "stdout",
     "output_type": "stream",
     "text": [
      "              precision    recall  f1-score   support\n",
      "\n",
      "           0       0.82      0.91      0.86       150\n",
      "           1       0.60      0.42      0.49        50\n",
      "\n",
      "    accuracy                           0.79       200\n",
      "   macro avg       0.71      0.66      0.68       200\n",
      "weighted avg       0.77      0.79      0.77       200\n",
      "\n",
      "              precision    recall  f1-score   support\n",
      "\n",
      "           0       0.89      0.82      0.85       150\n",
      "           1       0.56      0.70      0.62        50\n",
      "\n",
      "    accuracy                           0.79       200\n",
      "   macro avg       0.73      0.76      0.74       200\n",
      "weighted avg       0.81      0.79      0.80       200\n",
      "\n",
      "              precision    recall  f1-score   support\n",
      "\n",
      "           0       0.92      0.80      0.86       150\n",
      "           1       0.57      0.80      0.67        50\n",
      "\n",
      "    accuracy                           0.80       200\n",
      "   macro avg       0.75      0.80      0.76       200\n",
      "weighted avg       0.84      0.80      0.81       200\n",
      "\n",
      "              precision    recall  f1-score   support\n",
      "\n",
      "           0       0.94      0.73      0.82       150\n",
      "           1       0.51      0.86      0.64        50\n",
      "\n",
      "    accuracy                           0.76       200\n",
      "   macro avg       0.73      0.79      0.73       200\n",
      "weighted avg       0.83      0.76      0.78       200\n",
      "\n",
      "              precision    recall  f1-score   support\n",
      "\n",
      "           0       0.96      0.59      0.73       150\n",
      "           1       0.43      0.92      0.59        50\n",
      "\n",
      "    accuracy                           0.68       200\n",
      "   macro avg       0.69      0.76      0.66       200\n",
      "weighted avg       0.83      0.68      0.70       200\n",
      "\n"
     ]
    }
   ],
   "source": [
    "# Tying different threshold values\n",
    "thresholds = [0.5,0.4,0.35,0.3,0.25]\n",
    "for threshold in thresholds:\n",
    "    y_pred = model.predict(X_test, threshold = threshold)\n",
    "    y_prob = model.predict_prob(X_test)\n",
    "    \n",
    "    # Compute metrics\n",
    "    conf_matrix = confusion_matrix(y_test, y_pred)\n",
    "    report = classification_report(y_test, y_pred)\n",
    "\n",
    "    print(report)\n",
    " "
   ]
  },
  {
   "cell_type": "markdown",
   "id": "bf7929b4-1cbb-4122-8d27-33791c96a148",
   "metadata": {},
   "source": [
    "It seems that a threshold value of 0.35 gives the most balanced outcome, ensuringa recall value of over 0.5 which is the most important metric in a stroke risk classification, as we need to ensure that most positive cases are identified correctly."
   ]
  },
  {
   "cell_type": "code",
   "execution_count": 278,
   "id": "cc95dec1-f361-4b09-af2c-402cbd1f01dc",
   "metadata": {},
   "outputs": [
    {
     "name": "stdout",
     "output_type": "stream",
     "text": [
      "Model Evaluation Results:\n",
      "--------------------------------------------------\n",
      "Accuracy: 0.8000\n",
      "Precision: 0.5714\n",
      "Recall: 0.8000\n",
      "F1-Score: 0.6667\n",
      "AUC-ROC: 0.8499\n",
      "--------------------------------------------------\n",
      "Confusion Matrix:\n",
      "[[120  30]\n",
      " [ 10  40]]\n"
     ]
    }
   ],
   "source": [
    "y_pred = model.predict(X_test, threshold = 0.35)\n",
    "y_prob = model.predict_prob(X_test)\n",
    "\n",
    "# Compute metrics\n",
    "conf_matrix = confusion_matrix(y_test, y_pred)\n",
    "report = classification_report(y_test, y_pred, output_dict=True)\n",
    "\n",
    "\n",
    "# Compute ROC curve\n",
    "fpr, tpr, _ = roc_curve(y_test, y_prob)\n",
    "auc = roc_auc_score(y_test, y_prob)\n",
    "\n",
    "# Print results\n",
    "print(\"Model Evaluation Results:\")\n",
    "print(\"-\" * 50)\n",
    "print(f\"Accuracy: {report['accuracy']:.4f}\")\n",
    "print(f\"Precision: {report['1']['precision']:.4f}\")\n",
    "print(f\"Recall: {report['1']['recall']:.4f}\")\n",
    "print(f\"F1-Score: {report['1']['f1-score']:.4f}\")\n",
    "print(f\"AUC-ROC: {auc:.4f}\")\n",
    "print(\"-\" * 50)\n",
    "print(\"Confusion Matrix:\")\n",
    "print(conf_matrix)\n"
   ]
  },
  {
   "cell_type": "code",
   "execution_count": 279,
   "id": "85e2abbb-32eb-4489-9c89-39b73fa8173b",
   "metadata": {},
   "outputs": [
    {
     "data": {
      "image/png": "[encoded data removed]",
      "text/plain": [
       "<Figure size 800x600 with 1 Axes>"
      ]
     },
     "metadata": {},
     "output_type": "display_data"
    }
   ],
   "source": [
    "# Plot ROC curve\n",
    "plt.figure(figsize=(8, 6))\n",
    "plt.plot(fpr, tpr, label=f'ROC curve (AUC = {auc:.4f})')\n",
    "plt.plot([0, 1], [0, 1], 'k--')\n",
    "plt.xlabel('False Positive Rate')\n",
    "plt.ylabel('True Positive Rate')\n",
    "plt.title('Receiver Operating Characteristic (ROC) Curve')\n",
    "plt.legend(loc='lower right')\n",
    "plt.grid(True, alpha=0.3)\n",
    "plt.show()\n",
    "\n",
    "\n",
    "\n"
   ]
  },
  {
   "cell_type": "code",
   "execution_count": 280,
   "id": "1cc3a677-1d4a-4f91-8ad5-40a4fe9aee7c",
   "metadata": {},
   "outputs": [
    {
     "data": {
      "image/png": "[encoded data removed]",
      "text/plain": [
       "<Figure size 1000x600 with 1 Axes>"
      ]
     },
     "metadata": {},
     "output_type": "display_data"
    }
   ],
   "source": [
    "\n",
    "# Plot the learning curve (cost history) of the model\n",
    "\n",
    "\n",
    "if not hasattr(model, 'cost_history'):\n",
    "    print(\"Model has no cost history attribute.\")\n",
    "else:    \n",
    "    plt.figure(figsize=(10, 6))\n",
    "    plt.plot(model.cost_history)\n",
    "    plt.title('Learning Curve')\n",
    "    plt.xlabel('Iterations')\n",
    "    plt.ylabel('Cost')\n",
    "    plt.grid(True, alpha=0.3)\n",
    "    plt.show()"
   ]
  },
  {
   "cell_type": "code",
   "execution_count": 281,
   "id": "83792882-28dd-4673-8d58-94029e9f4639",
   "metadata": {},
   "outputs": [
    {
     "data": {
      "image/png": "[encoded data removed]",
      "text/plain": [
       "<Figure size 1200x800 with 1 Axes>"
      ]
     },
     "metadata": {},
     "output_type": "display_data"
    }
   ],
   "source": [
    "#Plot feature importance based on model weights\n",
    "\n",
    "\n",
    "if not hasattr(model, 'weights') or feature_names is None:\n",
    "    print(\"Model has no weights attribute or feature names are not provided.\")\n",
    "    \n",
    "else: \n",
    "    # Create DataFrame with feature names and their weights\n",
    "    importance = pd.DataFrame({\n",
    "        'Feature': feature_names,\n",
    "        'Weight': model.weights\n",
    "    })\n",
    "    \n",
    "    # Sort by absolute weight value\n",
    "    importance['Abs_Weight'] = np.abs(importance['Weight'])\n",
    "    importance = importance.sort_values('Abs_Weight', ascending=False)\n",
    "    \n",
    "    # Plot\n",
    "    plt.figure(figsize=(12, 8))\n",
    "    colors = ['green' if w > 0 else 'red' for w in importance['Weight']]\n",
    "    \n",
    "    sns.barplot(x='Weight', y='Feature', data=importance, palette=colors)\n",
    "    plt.title('Feature Importance (Model Weights)')\n",
    "    plt.xlabel('Weight')\n",
    "    plt.ylabel('Feature')\n",
    "    plt.grid(True, alpha=0.3)\n",
    "    plt.tight_layout()\n",
    "    plt.show()\n"
   ]
  },
  {
   "cell_type": "code",
   "execution_count": 282,
   "id": "33bedd8a-cff4-42c1-9f5f-fdf5205faa03",
   "metadata": {},
   "outputs": [
    {
     "data": {
      "text/plain": [
       "['feature_names.pkl']"
      ]
     },
     "execution_count": 282,
     "metadata": {},
     "output_type": "execute_result"
    }
   ],
   "source": [
    " \n",
    "# Save model, scaler, and feature names for deployment\n",
    "joblib.dump(model,'model.pkl')\n",
    "joblib.dump(scaler,'scaler.pkl')\n",
    "joblib.dump(feature_names, 'feature_names.pkl')"
   ]
  },
  {
   "cell_type": "markdown",
   "id": "98b90627-cc62-4113-8d81-676244884832",
   "metadata": {},
   "source": [
    "## Case Study/Testing Results\n",
    "\n",
    "Case Study Results:\n",
    "------------------\n",
    "\n",
    "After training and evaluation, the model achieved:\n",
    "\n",
    "- Accuracy: 80.0%\n",
    "- Precision: 57.14%\n",
    "- Recall: 80%\n",
    "- F1-Score: 66.67%\n",
    "- AUC-ROC: 0.85\n",
    "\n",
    "The top predictive features for stroke risk were:\n",
    "1. Age (positive correlation)\n",
    "2. Hypertension (positive correlation)\n",
    "3. Average glucose level (positive correlation)\n",
    "4. Heart disease (positive correlation)\n",
    "5. Smoking Status - formerly smoked (positive correlation)\n",
    "\n",
    "While the prediction metrics may look subpar in some cases. The model demonstrated satisfactory performance for stroke prediction, considering\n",
    "the class imbalance in the dataset. The high AUC-ROC score indicates good discrimination ability between\n",
    "stroke and non-stroke cases.\n",
    "\n",
    "Conclusion:\n",
    "----------\n",
    "The custom logistic regression model provides an effective solution for predicting stroke risk based on\n",
    "patient data. The model identifies key risk factors aligned with medical literature, such as age, \n",
    "glucose levels, hypertension, and heart disease. The implementation allows for easy integration with\n",
    "a Streamlit interface, making it accessible for healthcare providers.\n",
    "\n",
    "Limitations and future work:\n",
    "1. The class imbalance remains a challenge, potentially requiring more advanced sampling techniques\n",
    "2. Additional features such as family history could improve model performance\n",
    "3. More sophisticated models (e.g., support vector machines) might yield better results\n",
    "4. Interpretability tools could enhance clinical usefulness\n",
    "\"\"\""
   ]
  },
  {
   "cell_type": "code",
   "execution_count": null,
   "id": "3e628a4d-9ae6-4930-bd98-4f8a760fe809",
   "metadata": {},
   "outputs": [],
   "source": []
  }
 ],
 "metadata": {
  "kernelspec": {
   "display_name": "Python 3 (ipykernel)",
   "language": "python",
   "name": "python3"
  },
  "language_info": {
   "codemirror_mode": {
    "name": "ipython",
    "version": 3
   },
   "file_extension": ".py",
   "mimetype": "text/x-python",
   "name": "python",
   "nbconvert_exporter": "python",
   "pygments_lexer": "ipython3",
   "version": "3.13.2"
  }
 },
 "nbformat": 4,
 "nbformat_minor": 5
}
